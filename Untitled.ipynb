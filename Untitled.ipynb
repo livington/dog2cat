{
 "cells": [
  {
   "cell_type": "code",
   "execution_count": 1,
   "metadata": {},
   "outputs": [],
   "source": [
    "import pandas\n",
    "import xarray\n",
    "import requests\n",
    "import datetime\n",
    "import numpy as np\n",
    "from tqdm import tqdm_notebook as tqdm\n",
    "import pandas as pd\n",
    "from geopy.distance import geodesic\n",
    "from torchvision import transforms\n",
    "from PIL import Image\n",
    "from matplotlib import pyplot as plt\n",
    "import os\n",
    "import re\n",
    "import collections\n",
    "from scipy.spatial.distance import cosine\n",
    "from albumentations.pytorch import ToTensor\n",
    "import torch\n",
    "import gc\n",
    "import time\n",
    "import cv2\n",
    "import os"
   ]
  },
  {
   "cell_type": "code",
   "execution_count": 8,
   "metadata": {},
   "outputs": [],
   "source": [
    "def get_unit_dataset(path1, path2, output_name_path='train_unit'):\n",
    "    sub_folder_names = os.listdir(path1)\n",
    "    \n",
    "    i=0\n",
    "    for folder_name in sub_folder_names:\n",
    "        try:\n",
    "            print(folder_name)\n",
    "            images_folder_1 = os.listdir(os.path.join(path1, folder_name))\n",
    "            images_folder_2 = os.listdir(os.path.join(path2, folder_name))\n",
    "            \n",
    "            j=0\n",
    "            for images_name_1 in images_folder_1:\n",
    "                for images_name_2 in images_folder_2:\n",
    "                    j+=1\n",
    "                    img1_path = os.path.join(path1, folder_name, images_name_1)\n",
    "                    img2_path = os.path.join(path2, folder_name, images_name_2)\n",
    "                        \n",
    "                    #print(img1_path)\n",
    "                    try:\n",
    "                        img1 = cv2.imread(img1_path)\n",
    "                        img2 = cv2.imread(img2_path)\n",
    "                            \n",
    "                        img1 = cv2.resize(img1, (255, 255))\n",
    "                        img2 = cv2.resize(img2, (255, 255))\n",
    "                            \n",
    "                        vis = np.concatenate((img1, img2), axis=1)\n",
    "                        out_name = os.path.join(output_name_path, str(i) + '_AB.png')\n",
    "                            \n",
    "                        if not os.path.exists(output_name_path):\n",
    "                            os.mkdir(output_name_path)\n",
    "                            \n",
    "                        cv2.imwrite(out_name, vis)\n",
    "                        i += 1\n",
    "                    except Exception:\n",
    "                        pass\n",
    "                    \n",
    "                    if j>220:\n",
    "                        #print('break')\n",
    "                        break\n",
    "        except Exception:\n",
    "            pass"
   ]
  },
  {
   "cell_type": "code",
   "execution_count": 9,
   "metadata": {},
   "outputs": [],
   "source": [
    "def flip_all_img_in_all_folders(path):\n",
    "    folders = os.listdir(path)\n",
    "    \n",
    "    for folder in folders:\n",
    "        sub_folder_path = os.path.join(path, folder)\n",
    "        try:\n",
    "            images = os.listdir(sub_folder_path)\n",
    "            new_sub_folder_path = sub_folder_path +'_fliped'\n",
    "            if not os.path.exists(new_sub_folder_path):\n",
    "                os.mkdir(new_sub_folder_path)\n",
    "            \n",
    "            for image in images:\n",
    "                image_path = os.path.join(sub_folder_path, image)\n",
    "                new_image_name = image[:-4] +'_fliped.jpg'\n",
    "                new_image_path = os.path.join(new_sub_folder_path, new_image_name)\n",
    "                \n",
    "                img = cv2.imread(image_path)\n",
    "                flipHorizontal = cv2.flip(img, 1)\n",
    "                \n",
    "                cv2.imwrite(new_image_path, flipHorizontal)\n",
    "        except Exception:\n",
    "            pass"
   ]
  },
  {
   "cell_type": "code",
   "execution_count": 10,
   "metadata": {},
   "outputs": [
    {
     "name": "stdout",
     "output_type": "stream",
     "text": [
      "профиль стоит\n",
      "анфас лежит прямо\n",
      "анфас стоит боком_fliped\n",
      "профиль стоит_fliped\n",
      "профиль лежит\n",
      ".DS_Store\n",
      "анфас лежит прямо_fliped\n",
      "анфас стоит прямо\n",
      "анфас сидит\n",
      "профиль_fliped\n",
      "профиль\n",
      "анфас\n",
      "анфас сидит_fliped\n",
      "анфас_fliped\n",
      "профиль сидит\n",
      "анфас стоит боком\n",
      "профиль лежит_fliped\n",
      "анфас лежит боком_fliped\n",
      "анфас стоит прямо_fliped\n",
      "анфас лежит боком\n",
      "профиль сидит_fliped\n"
     ]
    }
   ],
   "source": [
    "path1 = '/Users/a17796028/projects/animals/cats'\n",
    "path2 = '/Users/a17796028/projects/animals/dogs'\n",
    "\n",
    "get_unit_dataset(path1, path2)"
   ]
  }
 ],
 "metadata": {
  "kernelspec": {
   "display_name": "Python 3",
   "language": "python",
   "name": "python3"
  },
  "language_info": {
   "codemirror_mode": {
    "name": "ipython",
    "version": 3
   },
   "file_extension": ".py",
   "mimetype": "text/x-python",
   "name": "python",
   "nbconvert_exporter": "python",
   "pygments_lexer": "ipython3",
   "version": "3.7.4"
  }
 },
 "nbformat": 4,
 "nbformat_minor": 2
}
